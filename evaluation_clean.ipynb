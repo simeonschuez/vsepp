{
 "cells": [
  {
   "cell_type": "code",
   "execution_count": 1,
   "metadata": {},
   "outputs": [],
   "source": [
    "from __future__ import print_function\n",
    "import os\n",
    "import pickle\n",
    "import json\n",
    "\n",
    "from argparse import Namespace\n",
    "\n",
    "import numpy\n",
    "from data import get_test_loader\n",
    "import time\n",
    "import numpy as np\n",
    "from vocab import Vocabulary  # NOQA\n",
    "import torch\n",
    "from model import VSE, order_sim\n",
    "from collections import OrderedDict, Counter\n",
    "import pandas as pd\n",
    "import matplotlib.pyplot as plt\n",
    "\n",
    "from evaluation import encode_data"
   ]
  },
  {
   "cell_type": "code",
   "execution_count": 2,
   "metadata": {},
   "outputs": [],
   "source": [
    "args = Namespace(\n",
    "    model_path=\"data/runs/coco_vse++_resnet_restval/model_best.pth.tar\",\n",
    "    image_path=\"/home/vu48pok/.data/compling/data/corpora/external/MSCOCO/COCO/val2014/\",\n",
    "    data_path=\"data/\",\n",
    "    vocab_path=\"vocab/\",\n",
    "    split=\"test\",\n",
    "    on_gpu=True\n",
    ")\n",
    "\n",
    "def eval_file(caption_file, cluster_file, args=args):\n",
    "    device = 'cpu' if not args.on_gpu else 'cuda'\n",
    "    checkpoint = torch.load(args.model_path, map_location=torch.device(device))\n",
    "    opt = checkpoint['opt']\n",
    "    #opt\n",
    "    \n",
    "    with open(caption_file) as f:\n",
    "        data = json.load(f)\n",
    "    img_ids = [i['image_id'] for i in data['annotations']]\n",
    "    with open(cluster_file, 'rb') as f:\n",
    "        clusters = pickle.load(f)\n",
    "    assert [i[0] for i in clusters] == img_ids, 'image ids in caption and cluster files not identical'\n",
    "    \n",
    "    if args.data_path is not None:\n",
    "        opt.data_path = args.data_path\n",
    "    if args.vocab_path is not None:\n",
    "        opt.vocab_path = args.vocab_path\n",
    "\n",
    "    # load vocabulary used by the model\n",
    "    with open(os.path.join(opt.vocab_path,\n",
    "                           '%s_vocab.pkl' % opt.data_name), 'rb') as f:\n",
    "        vocab = pickle.load(f)\n",
    "    opt.vocab_size = len(vocab)\n",
    "\n",
    "    # construct model\n",
    "    model = VSE(opt)\n",
    "\n",
    "    # load model state\n",
    "    model.load_state_dict(checkpoint['model'])\n",
    "\n",
    "    print('Loading dataset')\n",
    "    data_loader = get_test_loader(args.split, opt.data_name, vocab, opt.crop_size,\n",
    "                                  opt.batch_size, opt.workers, opt, \n",
    "                                  image_location=args.image_path,\n",
    "                                  caption_file=caption_file\n",
    "                                 )\n",
    "\n",
    "    print('Computing embeddings...')\n",
    "    img_embs, cap_embs = encode_data(model, data_loader, on_gpu=args.on_gpu)\n",
    "    print('Images: %d, Captions: %d' %\n",
    "          (img_embs.shape[0], cap_embs.shape[0]))\n",
    "    \n",
    "    \n",
    "    ann_df = pd.DataFrame(data_loader.dataset.coco[0].anns).T.set_index('id')\n",
    "\n",
    "    idx2imgid = ann_df['image_id'].to_dict()\n",
    "    imgid2idx = {v: k for k, v in idx2imgid.items()}\n",
    "\n",
    "    all_ranks = np.zeros((len(cap_embs), 3))\n",
    "\n",
    "    for i in range(len(cap_embs)):\n",
    "        cemb = cap_embs[i]\n",
    "        target = ann_df.loc[i].image_id\n",
    "        #distractors = ann_df.loc[i].distractors\n",
    "        cluster = [j for j in clusters if j[0] == target][0]\n",
    "        assert target == cluster[0]\n",
    "        #idx_array = np.array([imgid2idx[j] for j in [target]+distractors])\n",
    "        idx_array = np.array([imgid2idx[j] for j in cluster])\n",
    "        iemb = img_embs[idx_array]\n",
    "\n",
    "        dots = cemb @ iemb.T\n",
    "        ranks = np.argsort(dots.ravel())[::-1]\n",
    "        all_ranks[i] = ranks\n",
    "\n",
    "    target_positions = np.where(all_ranks==0)[1]\n",
    "\n",
    "    acc = len(target_positions[target_positions == 0]) / len(target_positions)\n",
    "    \n",
    "    print('\\nresults:\\n')\n",
    "    \n",
    "    print('file:', caption_file)\n",
    "    counts = Counter(target_positions)\n",
    "    keys = sorted(counts.keys())\n",
    "    values = [counts[k] for k in keys]\n",
    "    plt.bar(keys, values)\n",
    "    plt.xticks(keys)\n",
    "    plt.show()\n",
    "    print('acc:', acc)"
   ]
  },
  {
   "cell_type": "code",
   "execution_count": 3,
   "metadata": {},
   "outputs": [
    {
     "name": "stdout",
     "output_type": "stream",
     "text": [
      "=> using pre-trained model 'resnet152'\n",
      "Loading dataset\n",
      "loading annotations into memory...\n",
      "0:00:00.052739\n",
      "creating index...\n",
      "index created!\n",
      "Computing embeddings...\n",
      "Images: 5000, Captions: 5000\n",
      "\n",
      "results:\n",
      "\n",
      "file: caps_files/rsa50_caps.json\n"
     ]
    },
    {
     "data": {
      "image/png": "[encoded data removed]",
      "text/plain": [
       "<Figure size 432x288 with 1 Axes>"
      ]
     },
     "metadata": {
      "needs_background": "light"
     },
     "output_type": "display_data"
    },
    {
     "name": "stdout",
     "output_type": "stream",
     "text": [
      "acc: 0.636\n"
     ]
    }
   ],
   "source": [
    "eval_file('caps_files/rsa50_caps.json', 'caps_files/image_clusters_val_3.pkl')"
   ]
  },
  {
   "cell_type": "code",
   "execution_count": 4,
   "metadata": {},
   "outputs": [
    {
     "name": "stdout",
     "output_type": "stream",
     "text": [
      "=> using pre-trained model 'resnet152'\n",
      "Loading dataset\n",
      "loading annotations into memory...\n",
      "0:00:00.052521\n",
      "creating index...\n",
      "index created!\n",
      "Computing embeddings...\n",
      "Images: 5000, Captions: 5000\n",
      "\n",
      "results:\n",
      "\n",
      "file: caps_files/rsa05_caps.json\n"
     ]
    },
    {
     "data": {
      "image/png": "[encoded data removed]",
      "text/plain": [
       "<Figure size 432x288 with 1 Axes>"
      ]
     },
     "metadata": {
      "needs_background": "light"
     },
     "output_type": "display_data"
    },
    {
     "name": "stdout",
     "output_type": "stream",
     "text": [
      "acc: 0.5926\n"
     ]
    }
   ],
   "source": [
    "eval_file('caps_files/rsa05_caps.json', 'caps_files/image_clusters_val_3.pkl')"
   ]
  },
  {
   "cell_type": "code",
   "execution_count": 5,
   "metadata": {},
   "outputs": [
    {
     "name": "stdout",
     "output_type": "stream",
     "text": [
      "=> using pre-trained model 'resnet152'\n",
      "Loading dataset\n",
      "loading annotations into memory...\n",
      "0:00:00.052992\n",
      "creating index...\n",
      "index created!\n",
      "Computing embeddings...\n",
      "Images: 5000, Captions: 5000\n",
      "\n",
      "results:\n",
      "\n",
      "file: caps_files/beam_caps.json\n"
     ]
    },
    {
     "data": {
      "image/png": "[encoded data removed]",
      "text/plain": [
       "<Figure size 432x288 with 1 Axes>"
      ]
     },
     "metadata": {
      "needs_background": "light"
     },
     "output_type": "display_data"
    },
    {
     "name": "stdout",
     "output_type": "stream",
     "text": [
      "acc: 0.948\n"
     ]
    }
   ],
   "source": [
    "eval_file('caps_files/beam_caps.json', 'caps_files/image_clusters_val_3.pkl')"
   ]
  },
  {
   "cell_type": "code",
   "execution_count": 6,
   "metadata": {},
   "outputs": [
    {
     "name": "stdout",
     "output_type": "stream",
     "text": [
      "=> using pre-trained model 'resnet152'\n",
      "Loading dataset\n",
      "loading annotations into memory...\n",
      "0:00:00.052927\n",
      "creating index...\n",
      "index created!\n",
      "Computing embeddings...\n",
      "Images: 5000, Captions: 5000\n",
      "\n",
      "results:\n",
      "\n",
      "file: caps_files/greedy_caps.json\n"
     ]
    },
    {
     "data": {
      "image/png": "[encoded data removed]",
      "text/plain": [
       "<Figure size 432x288 with 1 Axes>"
      ]
     },
     "metadata": {
      "needs_background": "light"
     },
     "output_type": "display_data"
    },
    {
     "name": "stdout",
     "output_type": "stream",
     "text": [
      "acc: 0.9448\n"
     ]
    }
   ],
   "source": [
    "eval_file('caps_files/greedy_caps.json', 'caps_files/image_clusters_val_3.pkl')"
   ]
  },
  {
   "cell_type": "code",
   "execution_count": null,
   "metadata": {},
   "outputs": [],
   "source": []
  }
 ],
 "metadata": {
  "kernelspec": {
   "display_name": "pytorch",
   "language": "python",
   "name": "pytorch"
  },
  "language_info": {
   "codemirror_mode": {
    "name": "ipython",
    "version": 3
   },
   "file_extension": ".py",
   "mimetype": "text/x-python",
   "name": "python",
   "nbconvert_exporter": "python",
   "pygments_lexer": "ipython3",
   "version": "3.8.1"
  }
 },
 "nbformat": 4,
 "nbformat_minor": 4
}
