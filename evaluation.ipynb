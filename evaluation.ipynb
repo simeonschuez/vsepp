{
 "cells": [
  {
   "cell_type": "code",
   "execution_count": 1,
   "metadata": {},
   "outputs": [],
   "source": [
    "from __future__ import print_function\n",
    "import os\n",
    "import pickle\n",
    "\n",
    "import numpy\n",
    "from data import get_test_loader\n",
    "import time\n",
    "import numpy as np\n",
    "from vocab import Vocabulary  # NOQA\n",
    "import torch\n",
    "from model import VSE, order_sim\n",
    "from collections import OrderedDict\n",
    "from glob import glob\n",
    "\n",
    "from tqdm.autonotebook import tqdm\n",
    "\n",
    "from evaluation import encode_data\n",
    "\n",
    "import json\n",
    "import pandas as pd\n",
    "import matplotlib.pyplot as plt\n",
    "from scipy.spatial.distance import cosine\n",
    "from sklearn.metrics.pairwise import cosine_similarity"
   ]
  },
  {
   "cell_type": "code",
   "execution_count": 2,
   "metadata": {},
   "outputs": [
    {
     "data": {
      "text/plain": [
       "True"
      ]
     },
     "execution_count": 2,
     "metadata": {},
     "output_type": "execute_result"
    }
   ],
   "source": [
    "torch.cuda.is_available()"
   ]
  },
  {
   "cell_type": "code",
   "execution_count": null,
   "metadata": {},
   "outputs": [],
   "source": [
    "#model_path=\"data/runs/coco_vse++/model_best.pth.tar\"\n",
    "model_path=\"data/runs/coco_vse++_resnet_restval/model_best.pth.tar\"\n",
    "image_path=\"/home/vu48pok/.data/compling/data/corpora/external/MSCOCO/COCO/val2014/\"\n",
    "data_path=\"data/\"\n",
    "vocab_path=\"vocab/\"\n",
    "split=\"test\"\n",
    "on_gpu=True"
   ]
  },
  {
   "cell_type": "code",
   "execution_count": 5,
   "metadata": {},
   "outputs": [],
   "source": [
    "beam_files = glob('caps_files/beam*_reformat.json')\n",
    "files_2d = glob('caps_files/*2d*_reformat.json')\n",
    "files_4d = glob('caps_files/*4d*_reformat.json')\n",
    "files_9d = glob('caps_files/*9d*_reformat.json')"
   ]
  },
  {
   "cell_type": "code",
   "execution_count": 6,
   "metadata": {},
   "outputs": [
    {
     "data": {
      "text/plain": [
       "Namespace(Diters=5, Gimage_size=32, Giters=1, batch_size=128, beta1=0.9, beta2=0.999, betas=(0.9, 0.999), clamp_lower=-0.01, clamp_upper=0.01, cnn_type='resnet152', crop_size=224, data_name='coco', embed_size=1024, eta=1.0, eta_m=1.0, finetune=False, gamma=0.1, grad_clip=2.0, img_dim=4096, learning_rate=0.0002, log_step=10, logger_name='runs/coco_uvs_resnet_restval_l2norm', lr_update=15, margin=0.2, max_violation=True, measure='cosine', model_name='UVS', model_path='./model/', ndf=64, no_imgnorm=False, no_prel2norm=False, noadam=False, nol2norm=False, num_epochs=30, num_layers=1, resume='', save_step=1000, txt_dim=6000, use_abs=False, use_mask=False, use_restval=True, val_step=500, vocab_path='./data/', vocab_size=11755, word_dim=300, workers=10)"
      ]
     },
     "execution_count": 6,
     "metadata": {},
     "output_type": "execute_result"
    }
   ],
   "source": [
    "device = 'cpu' if not on_gpu else 'cuda'\n",
    "checkpoint = torch.load(model_path, map_location=torch.device(device))\n",
    "opt = checkpoint['opt']\n",
    "opt"
   ]
  },
  {
   "cell_type": "code",
   "execution_count": 7,
   "metadata": {},
   "outputs": [
    {
     "name": "stdout",
     "output_type": "stream",
     "text": [
      "=> using pre-trained model 'resnet152'\n"
     ]
    }
   ],
   "source": [
    "if data_path is not None:\n",
    "    opt.data_path = data_path\n",
    "\n",
    "if vocab_path is not None:\n",
    "    opt.vocab_path = vocab_path\n",
    "\n",
    "# load vocabulary used by the model\n",
    "with open(os.path.join(opt.vocab_path,\n",
    "                       '%s_vocab.pkl' % opt.data_name), 'rb') as f:\n",
    "    vocab = pickle.load(f)\n",
    "opt.vocab_size = len(vocab)\n",
    "\n",
    "# construct model\n",
    "model = VSE(opt)\n",
    "\n",
    "# load model state\n",
    "model.load_state_dict(checkpoint['model'])"
   ]
  },
  {
   "cell_type": "code",
   "execution_count": 29,
   "metadata": {},
   "outputs": [],
   "source": [
    "def evaluate_file(caption_file, cluster_file, model=model, vocab=vocab, image_path=image_path, opt=opt):\n",
    "    \n",
    "    # read cluster file\n",
    "    with open(cluster_file, 'rb') as f:\n",
    "        clusters = pickle.load(f)\n",
    "        n_dist = len(clusters[0])\n",
    "        \n",
    "    # read caption file to make sure the image ids align with the cluster targets\n",
    "    with open(caption_file, 'r') as f:\n",
    "        data = json.load(f)\n",
    "        img_ids = [i['image_id'] for i in data['annotations']]\n",
    "        assert [i[0] for i in clusters] == img_ids\n",
    "    \n",
    "    # initialize dataloader with captions from caption_file\n",
    "    data_loader = get_test_loader(split, opt.data_name, vocab, opt.crop_size,\n",
    "                              opt.batch_size, opt.workers, opt, \n",
    "                              image_location=image_path,\n",
    "                              caption_file=caption_file\n",
    "                             )\n",
    "    \n",
    "    print('Computing results...')\n",
    "    # embed images and captions in a joint space\n",
    "    img_embs, cap_embs = encode_data(model, data_loader, on_gpu=on_gpu)\n",
    "    print('Images: %d, Captions: %d' %\n",
    "          (img_embs.shape[0], cap_embs.shape[0]))\n",
    "    \n",
    "    # create df containing ordered image ids\n",
    "    ann_df = pd.DataFrame(data_loader.dataset.coco[0].anns).T.set_index('id')\n",
    "\n",
    "    # create dicts to align index positions and image ids\n",
    "    idx2imgid = ann_df['image_id'].to_dict()\n",
    "    imgid2idx = {v: k for k, v in idx2imgid.items()}\n",
    "\n",
    "    # initialize empty array with shape [5000, n_dist] (where n_dist in [2, 4, 9])\n",
    "    all_ranks = np.zeros((len(cap_embs), n_dist))\n",
    "    \n",
    "    # iterate through range from 0-4999\n",
    "    for i in range(len(cap_embs)):\n",
    "        # get caption embedding for current index\n",
    "        cemb = cap_embs[i]\n",
    "        # get target image id for current index\n",
    "        target = ann_df.loc[i].image_id\n",
    "        # get image cluster where target is the first image\n",
    "        cluster = [j for j in clusters if j[0] == target][0]\n",
    "        assert target == cluster[0]\n",
    "        \n",
    "        # get indices from cluster image ids\n",
    "        idx_array = np.array([imgid2idx[j] for j in cluster])\n",
    "        # get image embeddings for cluster entries\n",
    "        iemb = img_embs[idx_array]\n",
    "\n",
    "        # get cosine similarity between current caption embedding and all image embeddings\n",
    "        cosines = np.zeros((len(iemb), 1))\n",
    "        for j in range(len(iemb)):\n",
    "            cosines[j] = cosine_similarity(cemb.reshape(1, -1), iemb[j].reshape(1, -1))\n",
    "        # get ranks by sorting the cosines (in descending order)\n",
    "        ranks = np.argsort(cosines.ravel())[::-1]\n",
    "        \n",
    "        #dots = cemb @ iemb.T\n",
    "        # sort indices according to dot product\n",
    "        #ranks = np.argsort(dots.ravel())[::-1]\n",
    "        # add to all_ranks array\n",
    "        all_ranks[i] = ranks\n",
    "\n",
    "    # determine how often the target image is ranked first\n",
    "    target_positions = np.where(all_ranks==0)[1]\n",
    "    # compute accuracy\n",
    "    acc = len(target_positions[target_positions == 0]) / len(target_positions)\n",
    "    \n",
    "    return acc, all_ranks, target_positions"
   ]
  },
  {
   "cell_type": "code",
   "execution_count": 30,
   "metadata": {},
   "outputs": [
    {
     "data": {
      "application/vnd.jupyter.widget-view+json": {
       "model_id": "5a4a400744b54e12be8a61fa66359109",
       "version_major": 2,
       "version_minor": 0
      },
      "text/plain": [
       "HBox(children=(FloatProgress(value=0.0, max=19.0), HTML(value='')))"
      ]
     },
     "metadata": {},
     "output_type": "display_data"
    },
    {
     "name": "stdout",
     "output_type": "stream",
     "text": [
      "beam_char\n",
      "loading annotations into memory...\n",
      "0:00:00.059905\n",
      "creating index...\n",
      "index created!\n",
      "Computing results...\n",
      "Images: 5000, Captions: 5000\n",
      "beam\n",
      "loading annotations into memory...\n",
      "0:00:00.057676\n",
      "creating index...\n",
      "index created!\n",
      "Computing results...\n",
      "Images: 5000, Captions: 5000\n",
      "disc_beam_2d_l0-3_char\n",
      "loading annotations into memory...\n",
      "0:00:00.058010\n",
      "creating index...\n",
      "index created!\n",
      "Computing results...\n",
      "Images: 5000, Captions: 5000\n",
      "disc_beam_2d_l0-3\n",
      "loading annotations into memory...\n",
      "0:00:00.057748\n",
      "creating index...\n",
      "index created!\n",
      "Computing results...\n",
      "Images: 5000, Captions: 5000\n",
      "disc_beam_2d_l0-5_char\n",
      "loading annotations into memory...\n",
      "0:00:00.056598\n",
      "creating index...\n",
      "index created!\n",
      "Computing results...\n",
      "Images: 5000, Captions: 5000\n",
      "disc_beam_2d_l0-5\n",
      "loading annotations into memory...\n",
      "0:00:00.058747\n",
      "creating index...\n",
      "index created!\n",
      "Computing results...\n",
      "Images: 5000, Captions: 5000\n",
      "disc_beam_2d_l0-7_char\n",
      "loading annotations into memory...\n",
      "0:00:00.058594\n",
      "creating index...\n",
      "index created!\n",
      "Computing results...\n",
      "Images: 5000, Captions: 5000\n",
      "disc_beam_2d_l0-7\n",
      "loading annotations into memory...\n",
      "0:00:00.058346\n",
      "creating index...\n",
      "index created!\n",
      "Computing results...\n",
      "Images: 5000, Captions: 5000\n",
      "disc_fuse_beam_2d_l0-3_char\n",
      "loading annotations into memory...\n",
      "0:00:00.058462\n",
      "creating index...\n",
      "index created!\n",
      "Computing results...\n",
      "Images: 5000, Captions: 5000\n",
      "disc_fuse_beam_2d_l0-3\n",
      "loading annotations into memory...\n",
      "0:00:00.058825\n",
      "creating index...\n",
      "index created!\n",
      "Computing results...\n",
      "Images: 5000, Captions: 5000\n",
      "disc_fuse_beam_2d_l0-5_char\n",
      "loading annotations into memory...\n",
      "0:00:00.058294\n",
      "creating index...\n",
      "index created!\n",
      "Computing results...\n",
      "Images: 5000, Captions: 5000\n",
      "disc_fuse_beam_2d_l0-5\n",
      "loading annotations into memory...\n",
      "0:00:00.057357\n",
      "creating index...\n",
      "index created!\n",
      "Computing results...\n",
      "Images: 5000, Captions: 5000\n",
      "disc_fuse_beam_2d_l0-7_char\n",
      "loading annotations into memory...\n",
      "0:00:00.058172\n",
      "creating index...\n",
      "index created!\n",
      "Computing results...\n",
      "Images: 5000, Captions: 5000\n",
      "disc_fuse_beam_2d_l0-7\n",
      "loading annotations into memory...\n",
      "0:00:00.057357\n",
      "creating index...\n",
      "index created!\n",
      "Computing results...\n",
      "Images: 5000, Captions: 5000\n",
      "rsa_captions_2d_r0-5_char\n",
      "loading annotations into memory...\n",
      "0:00:00.056738\n",
      "creating index...\n",
      "index created!\n",
      "Computing results...\n",
      "Images: 5000, Captions: 5000\n",
      "rsa_captions_2d_r1-0_char\n",
      "loading annotations into memory...\n",
      "0:00:00.055596\n",
      "creating index...\n",
      "index created!\n",
      "Computing results...\n",
      "Images: 5000, Captions: 5000\n",
      "rsa_captions_2d_r2-0_char\n",
      "loading annotations into memory...\n",
      "0:00:00.056773\n",
      "creating index...\n",
      "index created!\n",
      "Computing results...\n",
      "Images: 5000, Captions: 5000\n",
      "rsa_captions_2d_r3-5_char\n",
      "loading annotations into memory...\n",
      "0:00:00.056441\n",
      "creating index...\n",
      "index created!\n",
      "Computing results...\n",
      "Images: 5000, Captions: 5000\n",
      "rsa_captions_2d_r5-0_char\n",
      "loading annotations into memory...\n",
      "0:00:00.055851\n",
      "creating index...\n",
      "index created!\n",
      "Computing results...\n",
      "Images: 5000, Captions: 5000\n",
      "\n"
     ]
    }
   ],
   "source": [
    "cluster_file = 'caps_files/image_clusters/image_clusters_val_3.pkl'\n",
    "results_2d = dict()\n",
    "for file in tqdm(beam_files + files_2d):\n",
    "    key = os.path.split(file)[-1].replace('_reformat.json', '')\n",
    "    print(key)\n",
    "    \n",
    "    acc, all_ranks, target_positions = evaluate_file(file, cluster_file, model, vocab)\n",
    "    \n",
    "    results_2d[key] = {'acc': acc, 'all_ranks': all_ranks, 'target_positions': target_positions}"
   ]
  },
  {
   "cell_type": "code",
   "execution_count": 31,
   "metadata": {},
   "outputs": [
    {
     "data": {
      "application/vnd.jupyter.widget-view+json": {
       "model_id": "82aec95382824932a9388ee0476de563",
       "version_major": 2,
       "version_minor": 0
      },
      "text/plain": [
       "HBox(children=(FloatProgress(value=0.0, max=18.0), HTML(value='')))"
      ]
     },
     "metadata": {},
     "output_type": "display_data"
    },
    {
     "name": "stdout",
     "output_type": "stream",
     "text": [
      "beam_char\n",
      "loading annotations into memory...\n",
      "0:00:00.061225\n",
      "creating index...\n",
      "index created!\n",
      "Computing results...\n",
      "Images: 5000, Captions: 5000\n",
      "beam\n",
      "loading annotations into memory...\n",
      "0:00:00.056551\n",
      "creating index...\n",
      "index created!\n",
      "Computing results...\n",
      "Images: 5000, Captions: 5000\n",
      "disc_beam_4d_l0-3_char\n",
      "loading annotations into memory...\n",
      "0:00:00.102379\n",
      "creating index...\n",
      "index created!\n",
      "Computing results...\n",
      "Images: 5000, Captions: 5000\n",
      "disc_beam_4d_l0-3\n",
      "loading annotations into memory...\n",
      "0:00:00.058198\n",
      "creating index...\n",
      "index created!\n",
      "Computing results...\n",
      "Images: 5000, Captions: 5000\n",
      "disc_beam_4d_l0-5_char\n",
      "loading annotations into memory...\n",
      "0:00:00.058268\n",
      "creating index...\n",
      "index created!\n",
      "Computing results...\n",
      "Images: 5000, Captions: 5000\n",
      "disc_beam_4d_l0-5\n",
      "loading annotations into memory...\n",
      "0:00:00.104072\n",
      "creating index...\n",
      "index created!\n",
      "Computing results...\n",
      "Images: 5000, Captions: 5000\n",
      "disc_beam_4d_l0-7_char\n",
      "loading annotations into memory...\n",
      "0:00:00.057998\n",
      "creating index...\n",
      "index created!\n",
      "Computing results...\n",
      "Images: 5000, Captions: 5000\n",
      "disc_beam_4d_l0-7\n",
      "loading annotations into memory...\n",
      "0:00:00.056789\n",
      "creating index...\n",
      "index created!\n",
      "Computing results...\n",
      "Images: 5000, Captions: 5000\n",
      "disc_fuse_beam_4d_l0-3_char\n",
      "loading annotations into memory...\n",
      "0:00:00.057538\n",
      "creating index...\n",
      "index created!\n",
      "Computing results...\n",
      "Images: 5000, Captions: 5000\n",
      "disc_fuse_beam_4d_l0-3\n",
      "loading annotations into memory...\n",
      "0:00:00.058008\n",
      "creating index...\n",
      "index created!\n",
      "Computing results...\n",
      "Images: 5000, Captions: 5000\n",
      "disc_fuse_beam_4d_l0-5_char\n",
      "loading annotations into memory...\n",
      "0:00:00.057644\n",
      "creating index...\n",
      "index created!\n",
      "Computing results...\n",
      "Images: 5000, Captions: 5000\n",
      "disc_fuse_beam_4d_l0-5\n",
      "loading annotations into memory...\n",
      "0:00:00.099925\n",
      "creating index...\n",
      "index created!\n",
      "Computing results...\n",
      "Images: 5000, Captions: 5000\n",
      "disc_fuse_beam_4d_l0-7_char\n",
      "loading annotations into memory...\n",
      "0:00:00.056894\n",
      "creating index...\n",
      "index created!\n",
      "Computing results...\n",
      "Images: 5000, Captions: 5000\n",
      "disc_fuse_beam_4d_l0-7\n",
      "loading annotations into memory...\n",
      "0:00:00.056790\n",
      "creating index...\n",
      "index created!\n",
      "Computing results...\n",
      "Images: 5000, Captions: 5000\n",
      "rsa_captions_4d_r0-5_char\n",
      "loading annotations into memory...\n",
      "0:00:00.054888\n",
      "creating index...\n",
      "index created!\n",
      "Computing results...\n",
      "Images: 5000, Captions: 5000\n",
      "rsa_captions_4d_r1-0\n",
      "loading annotations into memory...\n",
      "0:00:00.054376\n",
      "creating index...\n",
      "index created!\n",
      "Computing results...\n",
      "Images: 5000, Captions: 5000\n",
      "rsa_captions_4d_r5-0_char\n",
      "loading annotations into memory...\n",
      "0:00:00.054615\n",
      "creating index...\n",
      "index created!\n",
      "Computing results...\n",
      "Images: 5000, Captions: 5000\n",
      "rsa_captions_4d_r5-0\n",
      "loading annotations into memory...\n",
      "0:00:00.099574\n",
      "creating index...\n",
      "index created!\n",
      "Computing results...\n",
      "Images: 5000, Captions: 5000\n",
      "\n"
     ]
    }
   ],
   "source": [
    "cluster_file = 'caps_files/image_clusters/image_clusters_val_5.pkl'\n",
    "results_4d = dict()\n",
    "for file in tqdm(beam_files + files_4d):\n",
    "    key = os.path.split(file)[-1].replace('_reformat.json', '')\n",
    "    print(key)\n",
    "    \n",
    "    acc, all_ranks, target_positions = evaluate_file(file, cluster_file, model, vocab)\n",
    "    \n",
    "    results_4d[key] = {'acc': acc, 'all_ranks': all_ranks, 'target_positions': target_positions}"
   ]
  },
  {
   "cell_type": "code",
   "execution_count": 32,
   "metadata": {},
   "outputs": [
    {
     "data": {
      "application/vnd.jupyter.widget-view+json": {
       "model_id": "a59327c491804986b4455840ed47641c",
       "version_major": 2,
       "version_minor": 0
      },
      "text/plain": [
       "HBox(children=(FloatProgress(value=0.0, max=16.0), HTML(value='')))"
      ]
     },
     "metadata": {},
     "output_type": "display_data"
    },
    {
     "name": "stdout",
     "output_type": "stream",
     "text": [
      "beam_char\n",
      "loading annotations into memory...\n",
      "0:00:00.060302\n",
      "creating index...\n",
      "index created!\n",
      "Computing results...\n",
      "Images: 5000, Captions: 5000\n",
      "beam\n",
      "loading annotations into memory...\n",
      "0:00:00.054947\n",
      "creating index...\n",
      "index created!\n",
      "Computing results...\n",
      "Images: 5000, Captions: 5000\n",
      "disc_beam_9d_l0-3_char\n",
      "loading annotations into memory...\n",
      "0:00:00.105953\n",
      "creating index...\n",
      "index created!\n",
      "Computing results...\n",
      "Images: 5000, Captions: 5000\n",
      "disc_beam_9d_l0-3\n",
      "loading annotations into memory...\n",
      "0:00:00.058716\n",
      "creating index...\n",
      "index created!\n",
      "Computing results...\n",
      "Images: 5000, Captions: 5000\n",
      "disc_beam_9d_l0-5_char\n",
      "loading annotations into memory...\n",
      "0:00:00.058370\n",
      "creating index...\n",
      "index created!\n",
      "Computing results...\n",
      "Images: 5000, Captions: 5000\n",
      "disc_beam_9d_l0-5\n",
      "loading annotations into memory...\n",
      "0:00:00.058612\n",
      "creating index...\n",
      "index created!\n",
      "Computing results...\n",
      "Images: 5000, Captions: 5000\n",
      "disc_beam_9d_l0-7_char\n",
      "loading annotations into memory...\n",
      "0:00:00.058672\n",
      "creating index...\n",
      "index created!\n",
      "Computing results...\n",
      "Images: 5000, Captions: 5000\n",
      "disc_beam_9d_l0-7\n",
      "loading annotations into memory...\n",
      "0:00:00.058920\n",
      "creating index...\n",
      "index created!\n",
      "Computing results...\n",
      "Images: 5000, Captions: 5000\n",
      "disc_fuse_beam_9d_l0-3_char\n",
      "loading annotations into memory...\n",
      "0:00:00.106084\n",
      "creating index...\n",
      "index created!\n",
      "Computing results...\n",
      "Images: 5000, Captions: 5000\n",
      "disc_fuse_beam_9d_l0-3\n",
      "loading annotations into memory...\n",
      "0:00:00.057774\n",
      "creating index...\n",
      "index created!\n",
      "Computing results...\n",
      "Images: 5000, Captions: 5000\n",
      "disc_fuse_beam_9d_l0-5_char\n",
      "loading annotations into memory...\n",
      "0:00:00.057752\n",
      "creating index...\n",
      "index created!\n",
      "Computing results...\n",
      "Images: 5000, Captions: 5000\n",
      "disc_fuse_beam_9d_l0-5\n",
      "loading annotations into memory...\n",
      "0:00:00.106099\n",
      "creating index...\n",
      "index created!\n",
      "Computing results...\n",
      "Images: 5000, Captions: 5000\n",
      "disc_fuse_beam_9d_l0-7_char\n",
      "loading annotations into memory...\n",
      "0:00:00.057585\n",
      "creating index...\n",
      "index created!\n",
      "Computing results...\n",
      "Images: 5000, Captions: 5000\n",
      "disc_fuse_beam_9d_l0-7\n",
      "loading annotations into memory...\n",
      "0:00:00.057851\n",
      "creating index...\n",
      "index created!\n",
      "Computing results...\n",
      "Images: 5000, Captions: 5000\n",
      "rsa_captions_9d_r0-5_char\n",
      "loading annotations into memory...\n",
      "0:00:00.052853\n",
      "creating index...\n",
      "index created!\n",
      "Computing results...\n",
      "Images: 5000, Captions: 5000\n",
      "rsa_captions_9d_r5-0_char\n",
      "loading annotations into memory...\n",
      "0:00:00.052815\n",
      "creating index...\n",
      "index created!\n",
      "Computing results...\n",
      "Images: 5000, Captions: 5000\n",
      "\n"
     ]
    }
   ],
   "source": [
    "cluster_file = 'caps_files/image_clusters/image_clusters_val_10.pkl'\n",
    "results_9d = dict()\n",
    "for file in tqdm(beam_files + files_9d):\n",
    "    key = os.path.split(file)[-1].replace('_reformat.json', '')\n",
    "    print(key)\n",
    "    \n",
    "    acc, all_ranks, target_positions = evaluate_file(file, cluster_file, model, vocab)\n",
    "    \n",
    "    results_9d[key] = {'acc': acc, 'all_ranks': all_ranks, 'target_positions': target_positions}"
   ]
  },
  {
   "cell_type": "code",
   "execution_count": 33,
   "metadata": {},
   "outputs": [],
   "source": [
    "import re\n",
    "\n",
    "def get_lambda(s):\n",
    "    match = re.search(r'_l\\d-\\d',s)\n",
    "    if match:\n",
    "        d = match.group()[2:].replace('-', '.')\n",
    "        return float(d)\n",
    "    else:\n",
    "        return None\n",
    "def get_rationality(s):\n",
    "    match = re.search(r'_r\\d-\\d',s)\n",
    "    if match:\n",
    "        d = match.group()[2:].replace('-', '.')\n",
    "        return float(d)\n",
    "    else:\n",
    "        return None\n",
    "\n",
    "def get_n_distractors(s):\n",
    "    match = re.search(r'_\\dd',s)\n",
    "    if match:\n",
    "        d = match.group()[1:-1].replace('-', '.')\n",
    "        return int(d)\n",
    "    else:\n",
    "        return None\n",
    "    \n",
    "def get_segmentation(s):\n",
    "    if s.endswith('char'):\n",
    "        return 'char'\n",
    "    else:\n",
    "        return 'word'\n",
    "    \n",
    "def get_method(s):\n",
    "    if s.startswith('beam'):\n",
    "        return 'beam'\n",
    "    elif s.startswith('rsa'):\n",
    "        return 'rsa'\n",
    "    elif s.startswith('disc_fuse_beam'):\n",
    "        return 'disc_fuse_beam'\n",
    "    elif s.startswith('disc_beam'):\n",
    "        return 'disc_beam'"
   ]
  },
  {
   "cell_type": "code",
   "execution_count": 34,
   "metadata": {},
   "outputs": [],
   "source": [
    "accs_2d = pd.DataFrame(results_2d).T[['acc']]\n",
    "accs_4d = pd.DataFrame(results_4d).T[['acc']]\n",
    "accs_9d = pd.DataFrame(results_9d).T[['acc']]"
   ]
  },
  {
   "cell_type": "code",
   "execution_count": 35,
   "metadata": {},
   "outputs": [],
   "source": [
    "accs_2d['_lambda'] = accs_2d.index.map(get_lambda)\n",
    "accs_2d['rationality'] = accs_2d.index.map(get_rationality)\n",
    "accs_2d['method'] = accs_2d.index.map(get_method)\n",
    "accs_2d['segmentation'] = accs_2d.index.map(get_segmentation)\n",
    "accs_2d['n_distractors'] = 2\n",
    "\n",
    "accs_4d['_lambda'] = accs_4d.index.map(get_lambda)\n",
    "accs_4d['rationality'] = accs_4d.index.map(get_rationality)\n",
    "accs_4d['method'] = accs_4d.index.map(get_method)\n",
    "accs_4d['segmentation'] = accs_4d.index.map(get_segmentation)\n",
    "accs_4d['n_distractors'] = 4\n",
    "\n",
    "accs_9d['_lambda'] = accs_9d.index.map(get_lambda)\n",
    "accs_9d['rationality'] = accs_9d.index.map(get_rationality)\n",
    "accs_9d['method'] = accs_9d.index.map(get_method)\n",
    "accs_9d['segmentation'] = accs_9d.index.map(get_segmentation)\n",
    "accs_9d['n_distractors'] = 9"
   ]
  },
  {
   "cell_type": "code",
   "execution_count": 36,
   "metadata": {},
   "outputs": [],
   "source": [
    "pd.concat([accs_2d, accs_4d, accs_9d]).to_csv('vsepp_accs.csv')"
   ]
  },
  {
   "cell_type": "code",
   "execution_count": 37,
   "metadata": {},
   "outputs": [
    {
     "name": "stdout",
     "output_type": "stream",
     "text": [
      "word\n"
     ]
    },
    {
     "data": {
      "image/png": "[encoded data removed]",
      "text/plain": [
       "<Figure size 432x288 with 1 Axes>"
      ]
     },
     "metadata": {
      "needs_background": "light"
     },
     "output_type": "display_data"
    },
    {
     "name": "stdout",
     "output_type": "stream",
     "text": [
      "char\n"
     ]
    },
    {
     "data": {
      "image/png": "[encoded data removed]",
      "text/plain": [
       "<Figure size 432x288 with 1 Axes>"
      ]
     },
     "metadata": {
      "needs_background": "light"
     },
     "output_type": "display_data"
    }
   ],
   "source": [
    "for seg in ['word', 'char']:\n",
    "    print(seg)\n",
    "    \n",
    "    accs_2d.loc[accs_2d.segmentation == seg].loc[accs_2d.method.isin(['beam', 'rsa', 'disc_beam'])].sort_values(\n",
    "        ['segmentation', 'method', '_lambda', 'rationality'],\n",
    "        ascending=[True, False, True, False]\n",
    "    ).acc.plot(kind='barh', grid=True)\n",
    "    \n",
    "    plt.show()"
   ]
  },
  {
   "cell_type": "code",
   "execution_count": 38,
   "metadata": {},
   "outputs": [
    {
     "name": "stdout",
     "output_type": "stream",
     "text": [
      "word\n"
     ]
    },
    {
     "data": {
      "image/png": "[encoded data removed]",
      "text/plain": [
       "<Figure size 432x288 with 1 Axes>"
      ]
     },
     "metadata": {
      "needs_background": "light"
     },
     "output_type": "display_data"
    },
    {
     "name": "stdout",
     "output_type": "stream",
     "text": [
      "char\n"
     ]
    },
    {
     "data": {
      "image/png": "[encoded data removed]",
      "text/plain": [
       "<Figure size 432x288 with 1 Axes>"
      ]
     },
     "metadata": {
      "needs_background": "light"
     },
     "output_type": "display_data"
    }
   ],
   "source": [
    "for seg in ['word', 'char']:\n",
    "    print(seg)\n",
    "    accs_4d.loc[accs_4d.segmentation == seg].loc[accs_4d.method.isin(['beam', 'rsa', 'disc_beam'])].sort_values(\n",
    "        ['segmentation', 'method', '_lambda', 'rationality'],\n",
    "        ascending=[True, False, True, False]\n",
    "    ).acc.plot(kind='barh', grid=True)\n",
    "    plt.show()"
   ]
  },
  {
   "cell_type": "code",
   "execution_count": 39,
   "metadata": {},
   "outputs": [
    {
     "name": "stdout",
     "output_type": "stream",
     "text": [
      "word\n"
     ]
    },
    {
     "data": {
      "image/png": "[encoded data removed]",
      "text/plain": [
       "<Figure size 432x288 with 1 Axes>"
      ]
     },
     "metadata": {
      "needs_background": "light"
     },
     "output_type": "display_data"
    },
    {
     "name": "stdout",
     "output_type": "stream",
     "text": [
      "char\n"
     ]
    },
    {
     "data": {
      "image/png": "[encoded data removed]",
      "text/plain": [
       "<Figure size 432x288 with 1 Axes>"
      ]
     },
     "metadata": {
      "needs_background": "light"
     },
     "output_type": "display_data"
    }
   ],
   "source": [
    "for seg in ['word', 'char']:\n",
    "    print(seg)\n",
    "    accs_9d.loc[accs_9d.segmentation == seg].loc[accs_9d.method.isin(['beam', 'rsa', 'disc_beam'])].sort_values(\n",
    "        ['segmentation', 'method', '_lambda', 'rationality'],\n",
    "        ascending=[True, False, True, False]\n",
    "    ).acc.plot(kind='barh', grid=True)\n",
    "    plt.show()"
   ]
  },
  {
   "cell_type": "code",
   "execution_count": null,
   "metadata": {},
   "outputs": [],
   "source": []
  }
 ],
 "metadata": {
  "kernelspec": {
   "display_name": "pytorch",
   "language": "python",
   "name": "pytorch"
  },
  "language_info": {
   "codemirror_mode": {
    "name": "ipython",
    "version": 3
   },
   "file_extension": ".py",
   "mimetype": "text/x-python",
   "name": "python",
   "nbconvert_exporter": "python",
   "pygments_lexer": "ipython3",
   "version": "3.8.1"
  }
 },
 "nbformat": 4,
 "nbformat_minor": 4
}
